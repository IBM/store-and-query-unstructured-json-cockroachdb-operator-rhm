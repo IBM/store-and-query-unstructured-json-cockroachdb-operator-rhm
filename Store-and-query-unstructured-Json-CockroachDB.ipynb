{
 "cells": [
  {
   "cell_type": "markdown",
   "metadata": {},
   "source": [
    "## Install required python libraries"
   ]
  },
  {
   "cell_type": "code",
   "execution_count": null,
   "metadata": {},
   "outputs": [],
   "source": [
    "!pip install requests"
   ]
  },
  {
   "cell_type": "code",
   "execution_count": null,
   "metadata": {},
   "outputs": [],
   "source": [
    "!pip install psycopg2-binary"
   ]
  },
  {
   "cell_type": "code",
   "execution_count": null,
   "metadata": {},
   "outputs": [],
   "source": [
    "!pip install pandas"
   ]
  },
  {
   "cell_type": "markdown",
   "metadata": {},
   "source": [
    "## Import the libraries"
   ]
  },
  {
   "cell_type": "code",
   "execution_count": 1,
   "metadata": {},
   "outputs": [],
   "source": [
    "import json\n",
    "import psycopg2\n",
    "import requests\n",
    "import time\n",
    "import logging\n",
    "import pandas as pd"
   ]
  },
  {
   "cell_type": "markdown",
   "metadata": {},
   "source": [
    "## Initialize database constants\n",
    "> Enter the `database` & `username` created in CockroachDB.\n",
    "\n",
    "> Enter the `tablename` you wish to create."
   ]
  },
  {
   "cell_type": "code",
   "execution_count": 2,
   "metadata": {},
   "outputs": [],
   "source": [
    "database = \"bank\"\n",
    "username = \"cpuser\"\n",
    "host = \"localhost\"\n",
    "port = 26257\n",
    "tablename = \"jsontbl\""
   ]
  },
  {
   "cell_type": "markdown",
   "metadata": {},
   "source": [
    "## Initialize API\n",
    "> We will be using `http://dummy.restapiexample.com/api/v1/employees` for the demonstration purpose.\n",
    "\n",
    "> Sample Json Output:\n",
    "\n",
    "```json\n",
    "{\n",
    "    \"status\": \"success\",\n",
    "    \"data\": [\n",
    "        {\n",
    "            \"id\": \"1\",\n",
    "            \"employee_name\": \"...\",\n",
    "            \"employee_salary\": \"...\",\n",
    "            \"employee_age\": \"...\",\n",
    "            \"profile_image\": \"\"\n",
    "        },\n",
    "        {\n",
    "            \"id\": \"2\",\n",
    "            \"employee_name\": \"...\",\n",
    "            \"employee_salary\": \"...\",\n",
    "            \"employee_age\": \"...\",\n",
    "            \"profile_image\": \"\"\n",
    "        },\n",
    "        { \n",
    "            ... \n",
    "        }\n",
    "    ]\n",
    "}\n",
    "```"
   ]
  },
  {
   "cell_type": "code",
   "execution_count": 3,
   "metadata": {},
   "outputs": [],
   "source": [
    "url = \"http://dummy.restapiexample.com/api/v1/employees\""
   ]
  },
  {
   "cell_type": "markdown",
   "metadata": {},
   "source": [
    "## Create a connection to CockroachDB on Red Hat Marketplace"
   ]
  },
  {
   "cell_type": "code",
   "execution_count": 4,
   "metadata": {},
   "outputs": [],
   "source": [
    "conn = psycopg2.connect(database=database, user=username, host=host, port=port)\n",
    "conn.set_session(autocommit=True)\n",
    "cur = conn.cursor()"
   ]
  },
  {
   "cell_type": "markdown",
   "metadata": {},
   "source": [
    "## Create a table in CockroachDB"
   ]
  },
  {
   "cell_type": "code",
   "execution_count": 10,
   "metadata": {},
   "outputs": [],
   "source": [
    "def create_table(conn):\n",
    "    with conn.cursor() as cur:\n",
    "        cur.execute('CREATE TABLE IF NOT EXISTS {} ( \\\n",
    "        id UUID DEFAULT uuid_v4()::UUID PRIMARY KEY, \\\n",
    "        posts JSONB \\\n",
    "        );'.format(tablename))\n",
    "        logging.debug(\"create_table(): status message: {}\".format(cur.statusmessage))\n",
    "    conn.commit()"
   ]
  },
  {
   "cell_type": "code",
   "execution_count": 11,
   "metadata": {},
   "outputs": [],
   "source": [
    "create_table(conn)"
   ]
  },
  {
   "cell_type": "markdown",
   "metadata": {},
   "source": [
    "## Read the contents from the table in CockroachDB"
   ]
  },
  {
   "cell_type": "code",
   "execution_count": 6,
   "metadata": {},
   "outputs": [],
   "source": [
    "def print_content(conn):\n",
    "    with conn.cursor() as cur:\n",
    "        cur.execute(\"SELECT * FROM {}\".format(tablename))\n",
    "        logging.debug(\"print_content(): status message: {}\".format(cur.statusmessage))\n",
    "        rows = cur.fetchall()\n",
    "        return rows "
   ]
  },
  {
   "cell_type": "markdown",
   "metadata": {},
   "source": [
    "## Delete the contents from the table in CockroachDB"
   ]
  },
  {
   "cell_type": "code",
   "execution_count": 7,
   "metadata": {},
   "outputs": [],
   "source": [
    "def delete_table_contents(conn):\n",
    "    with conn.cursor() as cur:\n",
    "        cur.execute(\"DELETE FROM {}\".format(tablename))\n",
    "        logging.debug(\"delete_table_contents(): status message: {}\".format(cur.statusmessage))\n",
    "    conn.commit()"
   ]
  },
  {
   "cell_type": "markdown",
   "metadata": {},
   "source": [
    "## Delete the table from CockroachDB"
   ]
  },
  {
   "cell_type": "code",
   "execution_count": 8,
   "metadata": {},
   "outputs": [],
   "source": [
    "def drop_table(conn):\n",
    "    with conn.cursor() as cur:\n",
    "        cur.execute(\"DROP TABLE {}\".format(tablename))\n",
    "        logging.debug(\"drop_table(): status message: {}\".format(cur.statusmessage))\n",
    "    conn.commit()"
   ]
  },
  {
   "cell_type": "markdown",
   "metadata": {},
   "source": [
    "## Make API call and store the response"
   ]
  },
  {
   "cell_type": "code",
   "execution_count": 12,
   "metadata": {},
   "outputs": [],
   "source": [
    "req = requests.get(url, headers={\"User-Agent\": \"Python\"})\n",
    "\n",
    "# Decode the JSON.\n",
    "resp = req.json()\n",
    "\n",
    "# Convert the JSON to a string to send to the database.\n",
    "data = json.dumps(resp)"
   ]
  },
  {
   "cell_type": "markdown",
   "metadata": {},
   "source": [
    "##### We structure our query so that we extract the `data` field, and then expand that and insert each individual element into the database as a separate row."
   ]
  },
  {
   "cell_type": "code",
   "execution_count": 13,
   "metadata": {},
   "outputs": [],
   "source": [
    "cur.execute(\"\"\"INSERT INTO bank.jsontbl (posts)\n",
    "        SELECT json_array_elements(%s->'data')\"\"\", (data,))"
   ]
  },
  {
   "cell_type": "markdown",
   "metadata": {},
   "source": [
    "## Query the results from the table"
   ]
  },
  {
   "cell_type": "code",
   "execution_count": 14,
   "metadata": {},
   "outputs": [],
   "source": [
    "result = print_content(conn)"
   ]
  },
  {
   "cell_type": "markdown",
   "metadata": {},
   "source": [
    "## Close the connection to the CockroachDB on Red Hat Marketplace"
   ]
  },
  {
   "cell_type": "code",
   "execution_count": 15,
   "metadata": {},
   "outputs": [],
   "source": [
    "cur.close()\n",
    "conn.close()"
   ]
  },
  {
   "cell_type": "markdown",
   "metadata": {},
   "source": [
    "## Store the queried unstructured json in Pandas Dataframe"
   ]
  },
  {
   "cell_type": "code",
   "execution_count": 72,
   "metadata": {},
   "outputs": [],
   "source": [
    "df = pd.DataFrame(columns = ['Employee_ID', 'Employee_Name', 'Employee_Salary', 'Employee_Age'])"
   ]
  },
  {
   "cell_type": "code",
   "execution_count": 73,
   "metadata": {},
   "outputs": [],
   "source": [
    "idx = 0\n",
    "for i in result:\n",
    "    df.loc[len(df)] = [i[1]['id'], i[1]['employee_name'], i[1]['employee_salary'], i[1]['employee_age']]"
   ]
  },
  {
   "cell_type": "code",
   "execution_count": 79,
   "metadata": {
    "scrolled": false
   },
   "outputs": [
    {
     "data": {
      "text/html": [
       "<div>\n",
       "<style scoped>\n",
       "    .dataframe tbody tr th:only-of-type {\n",
       "        vertical-align: middle;\n",
       "    }\n",
       "\n",
       "    .dataframe tbody tr th {\n",
       "        vertical-align: top;\n",
       "    }\n",
       "\n",
       "    .dataframe thead th {\n",
       "        text-align: right;\n",
       "    }\n",
       "</style>\n",
       "<table border=\"1\" class=\"dataframe\">\n",
       "  <thead>\n",
       "    <tr style=\"text-align: right;\">\n",
       "      <th></th>\n",
       "      <th>Employee_ID</th>\n",
       "      <th>Employee_Name</th>\n",
       "      <th>Employee_Salary</th>\n",
       "      <th>Employee_Age</th>\n",
       "    </tr>\n",
       "  </thead>\n",
       "  <tbody>\n",
       "    <tr>\n",
       "      <th>0</th>\n",
       "      <td>17</td>\n",
       "      <td>Paul Byrd</td>\n",
       "      <td>725000</td>\n",
       "      <td>64</td>\n",
       "    </tr>\n",
       "    <tr>\n",
       "      <th>1</th>\n",
       "      <td>6</td>\n",
       "      <td>Brielle Williamson</td>\n",
       "      <td>372000</td>\n",
       "      <td>61</td>\n",
       "    </tr>\n",
       "    <tr>\n",
       "      <th>2</th>\n",
       "      <td>4</td>\n",
       "      <td>Cedric Kelly</td>\n",
       "      <td>433060</td>\n",
       "      <td>22</td>\n",
       "    </tr>\n",
       "    <tr>\n",
       "      <th>3</th>\n",
       "      <td>13</td>\n",
       "      <td>Charde Marshall</td>\n",
       "      <td>470600</td>\n",
       "      <td>36</td>\n",
       "    </tr>\n",
       "    <tr>\n",
       "      <th>4</th>\n",
       "      <td>6</td>\n",
       "      <td>Brielle Williamson</td>\n",
       "      <td>372000</td>\n",
       "      <td>61</td>\n",
       "    </tr>\n",
       "    <tr>\n",
       "      <th>5</th>\n",
       "      <td>2</td>\n",
       "      <td>Garrett Winters</td>\n",
       "      <td>170750</td>\n",
       "      <td>63</td>\n",
       "    </tr>\n",
       "    <tr>\n",
       "      <th>6</th>\n",
       "      <td>7</td>\n",
       "      <td>Herrod Chandler</td>\n",
       "      <td>137500</td>\n",
       "      <td>59</td>\n",
       "    </tr>\n",
       "    <tr>\n",
       "      <th>7</th>\n",
       "      <td>21</td>\n",
       "      <td>Jenette Caldwell</td>\n",
       "      <td>345000</td>\n",
       "      <td>30</td>\n",
       "    </tr>\n",
       "    <tr>\n",
       "      <th>8</th>\n",
       "      <td>16</td>\n",
       "      <td>Michael Silva</td>\n",
       "      <td>198500</td>\n",
       "      <td>66</td>\n",
       "    </tr>\n",
       "    <tr>\n",
       "      <th>9</th>\n",
       "      <td>11</td>\n",
       "      <td>Jena Gaines</td>\n",
       "      <td>90560</td>\n",
       "      <td>30</td>\n",
       "    </tr>\n",
       "  </tbody>\n",
       "</table>\n",
       "</div>"
      ],
      "text/plain": [
       "  Employee_ID       Employee_Name Employee_Salary Employee_Age\n",
       "0          17           Paul Byrd          725000           64\n",
       "1           6  Brielle Williamson          372000           61\n",
       "2           4        Cedric Kelly          433060           22\n",
       "3          13     Charde Marshall          470600           36\n",
       "4           6  Brielle Williamson          372000           61\n",
       "5           2     Garrett Winters          170750           63\n",
       "6           7     Herrod Chandler          137500           59\n",
       "7          21    Jenette Caldwell          345000           30\n",
       "8          16       Michael Silva          198500           66\n",
       "9          11         Jena Gaines           90560           30"
      ]
     },
     "execution_count": 79,
     "metadata": {},
     "output_type": "execute_result"
    }
   ],
   "source": [
    "df.head(10)"
   ]
  },
  {
   "cell_type": "markdown",
   "metadata": {},
   "source": [
    "## Summary\n",
    "\n",
    "We learn't how to get unstructured data from a REST API, created a table in CockroachDB and stored the unstructured Json data into the table. We also learn't to query the unstructured data from CockroachDB table into a pandas dataframe.\n",
    "\n",
    "## Future Scope\n",
    "\n",
    "The pandas dataframe can be further used to clean, cleanse and refine the data. The data can be used to build Machine Learning models as well."
   ]
  },
  {
   "cell_type": "markdown",
   "metadata": {},
   "source": [
    "## (Optional) Delete the records from the table in CockroachDB"
   ]
  },
  {
   "cell_type": "code",
   "execution_count": null,
   "metadata": {},
   "outputs": [],
   "source": [
    "#delete_table_contents(conn)"
   ]
  },
  {
   "cell_type": "markdown",
   "metadata": {},
   "source": [
    "## (Optional) Delete the table from CockroachDB"
   ]
  },
  {
   "cell_type": "code",
   "execution_count": null,
   "metadata": {},
   "outputs": [],
   "source": [
    "#drop_table(conn)"
   ]
  }
 ],
 "metadata": {
  "kernelspec": {
   "display_name": "jupyter.venv",
   "language": "python",
   "name": "jupyter.venv"
  },
  "language_info": {
   "codemirror_mode": {
    "name": "ipython",
    "version": 3
   },
   "file_extension": ".py",
   "mimetype": "text/x-python",
   "name": "python",
   "nbconvert_exporter": "python",
   "pygments_lexer": "ipython3",
   "version": "3.6.5"
  }
 },
 "nbformat": 4,
 "nbformat_minor": 4
}

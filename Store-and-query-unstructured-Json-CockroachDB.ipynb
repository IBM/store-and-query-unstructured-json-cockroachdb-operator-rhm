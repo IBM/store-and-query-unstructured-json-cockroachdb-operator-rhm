{
 "cells": [
  {
   "cell_type": "markdown",
   "metadata": {},
   "source": [
    "## Install required python libraries"
   ]
  },
  {
   "cell_type": "code",
   "execution_count": null,
   "metadata": {},
   "outputs": [],
   "source": [
    "!pip install requests"
   ]
  },
  {
   "cell_type": "code",
   "execution_count": null,
   "metadata": {},
   "outputs": [],
   "source": [
    "!pip install psycopg2-binary"
   ]
  },
  {
   "cell_type": "code",
   "execution_count": null,
   "metadata": {},
   "outputs": [],
   "source": [
    "!pip install pandas"
   ]
  },
  {
   "cell_type": "markdown",
   "metadata": {},
   "source": [
    "## Import the libraries"
   ]
  },
  {
   "cell_type": "code",
   "execution_count": 1,
   "metadata": {},
   "outputs": [],
   "source": [
    "import json\n",
    "import psycopg2\n",
    "import requests\n",
    "import time\n",
    "import logging\n",
    "import pandas as pd"
   ]
  },
  {
   "cell_type": "markdown",
   "metadata": {},
   "source": [
    "## Initialize database constants\n",
    "> Enter the `database` & `username` created in CockroachDB.\n",
    "\n",
    "> Enter the `tablename` you wish to create."
   ]
  },
  {
   "cell_type": "code",
   "execution_count": 2,
   "metadata": {},
   "outputs": [],
   "source": [
    "database = \"employees\"\n",
    "username = \"maxroach\"\n",
    "host = \"localhost\"\n",
    "port = 26257\n",
    "tablename = \"jsontbl\""
   ]
  },
  {
   "cell_type": "markdown",
   "metadata": {},
   "source": [
    "## Initialize API\n",
    "> We will be using `http://dummy.restapiexample.com/api/v1/employees` for the demonstration purpose.\n",
    "\n",
    "> Sample Json Output:\n",
    "\n",
    "```json\n",
    "{\n",
    "    \"status\": \"success\",\n",
    "    \"data\": [\n",
    "        {\n",
    "            \"id\": \"1\",\n",
    "            \"employee_name\": \"...\",\n",
    "            \"employee_salary\": \"...\",\n",
    "            \"employee_age\": \"...\",\n",
    "            \"profile_image\": \"\"\n",
    "        },\n",
    "        {\n",
    "            \"id\": \"2\",\n",
    "            \"employee_name\": \"...\",\n",
    "            \"employee_salary\": \"...\",\n",
    "            \"employee_age\": \"...\",\n",
    "            \"profile_image\": \"\"\n",
    "        },\n",
    "        { \n",
    "            ... \n",
    "        }\n",
    "    ]\n",
    "}\n",
    "```"
   ]
  },
  {
   "cell_type": "code",
   "execution_count": 3,
   "metadata": {},
   "outputs": [],
   "source": [
    "url = \"http://dummy.restapiexample.com/api/v1/employees\""
   ]
  },
  {
   "cell_type": "markdown",
   "metadata": {},
   "source": [
    "## Create a connection to CockroachDB on Red Hat Marketplace"
   ]
  },
  {
   "cell_type": "code",
   "execution_count": 4,
   "metadata": {},
   "outputs": [],
   "source": [
    "conn = psycopg2.connect(database=database, user=username, host=host, port=port)\n",
    "conn.set_session(autocommit=True)\n",
    "cur = conn.cursor()"
   ]
  },
  {
   "cell_type": "markdown",
   "metadata": {},
   "source": [
    "## Create a table in CockroachDB"
   ]
  },
  {
   "cell_type": "code",
   "execution_count": 5,
   "metadata": {},
   "outputs": [],
   "source": [
    "def create_table(conn):\n",
    "    with conn.cursor() as cur:\n",
    "        cur.execute('CREATE TABLE IF NOT EXISTS {} ( \\\n",
    "        id UUID DEFAULT uuid_v4()::UUID PRIMARY KEY, \\\n",
    "        posts JSONB \\\n",
    "        );'.format(tablename))\n",
    "        logging.debug(\"create_table(): status message: {}\".format(cur.statusmessage))\n",
    "    conn.commit()\n",
    "    print(\"Table {} created successfully!\".format(tablename))"
   ]
  },
  {
   "cell_type": "code",
   "execution_count": 6,
   "metadata": {},
   "outputs": [
    {
     "name": "stdout",
     "output_type": "stream",
     "text": [
      "Table jsontbl created successfully!\n"
     ]
    }
   ],
   "source": [
    "create_table(conn)"
   ]
  },
  {
   "cell_type": "markdown",
   "metadata": {},
   "source": [
    "## Make API call and store the response"
   ]
  },
  {
   "cell_type": "code",
   "execution_count": 7,
   "metadata": {},
   "outputs": [
    {
     "name": "stdout",
     "output_type": "stream",
     "text": [
      "{\n",
      "  \"status\": \"success\",\n",
      "  \"data\": [\n",
      "    {\n",
      "      \"id\": \"1\",\n",
      "      \"employee_name\": \"Tiger Nixon\",\n",
      "      \"employee_salary\": \"320800\",\n",
      "      \"employee_age\": \"61\",\n",
      "      \"profile_image\": \"\"\n",
      "    },\n",
      "    {\n",
      "      \"id\": \"2\",\n",
      "      \"employee_name\": \"Garrett Winters\",\n",
      "      \"employee_salary\": \"170750\",\n",
      "      \"employee_age\": \"63\",\n",
      "      \"profile_image\": \"\"\n",
      "    },\n",
      "    {\n",
      "      \"id\": \"3\",\n",
      "      \"employee_name\": \"Ashton Cox\",\n",
      "      \"employee_salary\": \"86000\",\n",
      "      \"employee_age\": \"66\",\n",
      "      \"profile_image\": \"\"\n",
      "    },\n",
      "    {\n",
      "      \"id\": \"4\",\n",
      "      \"employee_name\": \"Cedric Kelly\",\n",
      "      \"employee_salary\": \"433060\",\n",
      "      \"employee_age\": \"22\",\n",
      "      \"profile_image\": \"\"\n",
      "    },\n",
      "    {\n",
      "      \"id\": \"5\",\n",
      "      \"employee_name\": \"Airi Satou\",\n",
      "      \"employee_salary\": \"162700\",\n",
      "      \"employee_age\": \"33\",\n",
      "      \"profile_image\": \"\"\n",
      "    },\n",
      "    {\n",
      "      \"id\": \"6\",\n",
      "      \"employee_name\": \"Brielle Williamson\",\n",
      "      \"employee_salary\": \"372000\",\n",
      "      \"employee_age\": \"61\",\n",
      "      \"profile_image\": \"\"\n",
      "    },\n",
      "    {\n",
      "      \"id\": \"7\",\n",
      "      \"employee_name\": \"Herrod Chandler\",\n",
      "      \"employee_salary\": \"137500\",\n",
      "      \"employee_age\": \"59\",\n",
      "      \"profile_image\": \"\"\n",
      "    },\n",
      "    {\n",
      "      \"id\": \"8\",\n",
      "      \"employee_name\": \"Rhona Davidson\",\n",
      "      \"employee_salary\": \"327900\",\n",
      "      \"employee_age\": \"55\",\n",
      "      \"profile_image\": \"\"\n",
      "    },\n",
      "    {\n",
      "      \"id\": \"9\",\n",
      "      \"employee_name\": \"Colleen Hurst\",\n",
      "      \"employee_salary\": \"205500\",\n",
      "      \"employee_age\": \"39\",\n",
      "      \"profile_image\": \"\"\n",
      "    },\n",
      "    {\n",
      "      \"id\": \"10\",\n",
      "      \"employee_name\": \"Sonya Frost\",\n",
      "      \"employee_salary\": \"103600\",\n",
      "      \"employee_age\": \"23\",\n",
      "      \"profile_image\": \"\"\n",
      "    },\n",
      "    {\n",
      "      \"id\": \"11\",\n",
      "      \"employee_name\": \"Jena Gaines\",\n",
      "      \"employee_salary\": \"90560\",\n",
      "      \"employee_age\": \"30\",\n",
      "      \"profile_image\": \"\"\n",
      "    },\n",
      "    {\n",
      "      \"id\": \"12\",\n",
      "      \"employee_name\": \"Quinn Flynn\",\n",
      "      \"employee_salary\": \"342000\",\n",
      "      \"employee_age\": \"22\",\n",
      "      \"profile_image\": \"\"\n",
      "    },\n",
      "    {\n",
      "      \"id\": \"13\",\n",
      "      \"employee_name\": \"Charde Marshall\",\n",
      "      \"employee_salary\": \"470600\",\n",
      "      \"employee_age\": \"36\",\n",
      "      \"profile_image\": \"\"\n",
      "    },\n",
      "    {\n",
      "      \"id\": \"14\",\n",
      "      \"employee_name\": \"Haley Kennedy\",\n",
      "      \"employee_salary\": \"313500\",\n",
      "      \"employee_age\": \"43\",\n",
      "      \"profile_image\": \"\"\n",
      "    },\n",
      "    {\n",
      "      \"id\": \"15\",\n",
      "      \"employee_name\": \"Tatyana Fitzpatrick\",\n",
      "      \"employee_salary\": \"385750\",\n",
      "      \"employee_age\": \"19\",\n",
      "      \"profile_image\": \"\"\n",
      "    },\n",
      "    {\n",
      "      \"id\": \"16\",\n",
      "      \"employee_name\": \"Michael Silva\",\n",
      "      \"employee_salary\": \"198500\",\n",
      "      \"employee_age\": \"66\",\n",
      "      \"profile_image\": \"\"\n",
      "    },\n",
      "    {\n",
      "      \"id\": \"17\",\n",
      "      \"employee_name\": \"Paul Byrd\",\n",
      "      \"employee_salary\": \"725000\",\n",
      "      \"employee_age\": \"64\",\n",
      "      \"profile_image\": \"\"\n",
      "    },\n",
      "    {\n",
      "      \"id\": \"18\",\n",
      "      \"employee_name\": \"Gloria Little\",\n",
      "      \"employee_salary\": \"237500\",\n",
      "      \"employee_age\": \"59\",\n",
      "      \"profile_image\": \"\"\n",
      "    },\n",
      "    {\n",
      "      \"id\": \"19\",\n",
      "      \"employee_name\": \"Bradley Greer\",\n",
      "      \"employee_salary\": \"132000\",\n",
      "      \"employee_age\": \"41\",\n",
      "      \"profile_image\": \"\"\n",
      "    },\n",
      "    {\n",
      "      \"id\": \"20\",\n",
      "      \"employee_name\": \"Dai Rios\",\n",
      "      \"employee_salary\": \"217500\",\n",
      "      \"employee_age\": \"35\",\n",
      "      \"profile_image\": \"\"\n",
      "    },\n",
      "    {\n",
      "      \"id\": \"21\",\n",
      "      \"employee_name\": \"Jenette Caldwell\",\n",
      "      \"employee_salary\": \"345000\",\n",
      "      \"employee_age\": \"30\",\n",
      "      \"profile_image\": \"\"\n",
      "    },\n",
      "    {\n",
      "      \"id\": \"22\",\n",
      "      \"employee_name\": \"Yuri Berry\",\n",
      "      \"employee_salary\": \"675000\",\n",
      "      \"employee_age\": \"40\",\n",
      "      \"profile_image\": \"\"\n",
      "    },\n",
      "    {\n",
      "      \"id\": \"23\",\n",
      "      \"employee_name\": \"Caesar Vance\",\n",
      "      \"employee_salary\": \"106450\",\n",
      "      \"employee_age\": \"21\",\n",
      "      \"profile_image\": \"\"\n",
      "    },\n",
      "    {\n",
      "      \"id\": \"24\",\n",
      "      \"employee_name\": \"Doris Wilder\",\n",
      "      \"employee_salary\": \"85600\",\n",
      "      \"employee_age\": \"23\",\n",
      "      \"profile_image\": \"\"\n",
      "    }\n",
      "  ]\n",
      "}\n"
     ]
    }
   ],
   "source": [
    "req = requests.get(url, headers={\"User-Agent\": \"Python\"})\n",
    "\n",
    "# Decode the JSON.\n",
    "resp = req.json()\n",
    "\n",
    "# Convert the JSON to a string to send to the database.\n",
    "data = json.dumps(resp)\n",
    "print(json.dumps(resp, indent=2))"
   ]
  },
  {
   "cell_type": "markdown",
   "metadata": {},
   "source": [
    "##### We structure our query so that we extract the `data` field, and then expand that and insert each individual element into the database as a separate row."
   ]
  },
  {
   "cell_type": "code",
   "execution_count": 8,
   "metadata": {},
   "outputs": [],
   "source": [
    "cur.execute(\"\"\"INSERT INTO bank.jsontbl (posts)\n",
    "        SELECT json_array_elements(%s->'data')\"\"\", (data,))"
   ]
  },
  {
   "cell_type": "markdown",
   "metadata": {},
   "source": [
    "## Query the results from the table"
   ]
  },
  {
   "cell_type": "code",
   "execution_count": 9,
   "metadata": {},
   "outputs": [],
   "source": [
    "def print_content(conn):\n",
    "    with conn.cursor() as cur:\n",
    "        cur.execute(\"SELECT * FROM {}\".format(tablename))\n",
    "        logging.debug(\"print_content(): status message: {}\".format(cur.statusmessage))\n",
    "        rows = cur.fetchall()\n",
    "        return rows "
   ]
  },
  {
   "cell_type": "code",
   "execution_count": 10,
   "metadata": {},
   "outputs": [],
   "source": [
    "result = print_content(conn)"
   ]
  },
  {
   "cell_type": "markdown",
   "metadata": {},
   "source": [
    "## Read the queried unstructured JSON in Pandas Dataframe"
   ]
  },
  {
   "cell_type": "code",
   "execution_count": 11,
   "metadata": {},
   "outputs": [],
   "source": [
    "df = pd.DataFrame(columns = ['Employee_ID', 'Employee_Name', 'Employee_Salary', 'Employee_Age'])"
   ]
  },
  {
   "cell_type": "code",
   "execution_count": 12,
   "metadata": {},
   "outputs": [],
   "source": [
    "idx = 0\n",
    "for i in result:\n",
    "    df.loc[len(df)] = [i[1]['id'], i[1]['employee_name'], i[1]['employee_salary'], i[1]['employee_age']]"
   ]
  },
  {
   "cell_type": "code",
   "execution_count": 13,
   "metadata": {
    "scrolled": false
   },
   "outputs": [
    {
     "data": {
      "text/html": [
       "<div>\n",
       "<style scoped>\n",
       "    .dataframe tbody tr th:only-of-type {\n",
       "        vertical-align: middle;\n",
       "    }\n",
       "\n",
       "    .dataframe tbody tr th {\n",
       "        vertical-align: top;\n",
       "    }\n",
       "\n",
       "    .dataframe thead th {\n",
       "        text-align: right;\n",
       "    }\n",
       "</style>\n",
       "<table border=\"1\" class=\"dataframe\">\n",
       "  <thead>\n",
       "    <tr style=\"text-align: right;\">\n",
       "      <th></th>\n",
       "      <th>Employee_ID</th>\n",
       "      <th>Employee_Name</th>\n",
       "      <th>Employee_Salary</th>\n",
       "      <th>Employee_Age</th>\n",
       "    </tr>\n",
       "  </thead>\n",
       "  <tbody>\n",
       "    <tr>\n",
       "      <th>0</th>\n",
       "      <td>17</td>\n",
       "      <td>Paul Byrd</td>\n",
       "      <td>725000</td>\n",
       "      <td>64</td>\n",
       "    </tr>\n",
       "    <tr>\n",
       "      <th>1</th>\n",
       "      <td>6</td>\n",
       "      <td>Brielle Williamson</td>\n",
       "      <td>372000</td>\n",
       "      <td>61</td>\n",
       "    </tr>\n",
       "    <tr>\n",
       "      <th>2</th>\n",
       "      <td>9</td>\n",
       "      <td>Colleen Hurst</td>\n",
       "      <td>205500</td>\n",
       "      <td>39</td>\n",
       "    </tr>\n",
       "    <tr>\n",
       "      <th>3</th>\n",
       "      <td>19</td>\n",
       "      <td>Bradley Greer</td>\n",
       "      <td>132000</td>\n",
       "      <td>41</td>\n",
       "    </tr>\n",
       "    <tr>\n",
       "      <th>4</th>\n",
       "      <td>22</td>\n",
       "      <td>Yuri Berry</td>\n",
       "      <td>675000</td>\n",
       "      <td>40</td>\n",
       "    </tr>\n",
       "    <tr>\n",
       "      <th>5</th>\n",
       "      <td>4</td>\n",
       "      <td>Cedric Kelly</td>\n",
       "      <td>433060</td>\n",
       "      <td>22</td>\n",
       "    </tr>\n",
       "    <tr>\n",
       "      <th>6</th>\n",
       "      <td>22</td>\n",
       "      <td>Yuri Berry</td>\n",
       "      <td>675000</td>\n",
       "      <td>40</td>\n",
       "    </tr>\n",
       "    <tr>\n",
       "      <th>7</th>\n",
       "      <td>6</td>\n",
       "      <td>Brielle Williamson</td>\n",
       "      <td>372000</td>\n",
       "      <td>61</td>\n",
       "    </tr>\n",
       "    <tr>\n",
       "      <th>8</th>\n",
       "      <td>10</td>\n",
       "      <td>Sonya Frost</td>\n",
       "      <td>103600</td>\n",
       "      <td>23</td>\n",
       "    </tr>\n",
       "    <tr>\n",
       "      <th>9</th>\n",
       "      <td>5</td>\n",
       "      <td>Airi Satou</td>\n",
       "      <td>162700</td>\n",
       "      <td>33</td>\n",
       "    </tr>\n",
       "  </tbody>\n",
       "</table>\n",
       "</div>"
      ],
      "text/plain": [
       "  Employee_ID       Employee_Name Employee_Salary Employee_Age\n",
       "0          17           Paul Byrd          725000           64\n",
       "1           6  Brielle Williamson          372000           61\n",
       "2           9       Colleen Hurst          205500           39\n",
       "3          19       Bradley Greer          132000           41\n",
       "4          22          Yuri Berry          675000           40\n",
       "5           4        Cedric Kelly          433060           22\n",
       "6          22          Yuri Berry          675000           40\n",
       "7           6  Brielle Williamson          372000           61\n",
       "8          10         Sonya Frost          103600           23\n",
       "9           5          Airi Satou          162700           33"
      ]
     },
     "execution_count": 13,
     "metadata": {},
     "output_type": "execute_result"
    }
   ],
   "source": [
    "df.head(10)"
   ]
  },
  {
   "cell_type": "markdown",
   "metadata": {},
   "source": [
    "## Close the connection to the CockroachDB Operator"
   ]
  },
  {
   "cell_type": "code",
   "execution_count": 14,
   "metadata": {},
   "outputs": [],
   "source": [
    "cur.close()\n",
    "conn.close()"
   ]
  },
  {
   "cell_type": "markdown",
   "metadata": {},
   "source": [
    "## Summary\n",
    "\n",
    "We learn't how to get unstructured data from a REST API, created a table in CockroachDB and stored the unstructured Json data into the table. We also learn't to query the unstructured data from CockroachDB table into a pandas dataframe.\n",
    "\n",
    "## Future Scope\n",
    "\n",
    "The pandas dataframe can be further used to clean, cleanse and refine the data. The data can be used to build Machine Learning models as well."
   ]
  },
  {
   "cell_type": "markdown",
   "metadata": {},
   "source": [
    "#### (Optional) Delete the records from the table in CockroachDB"
   ]
  },
  {
   "cell_type": "code",
   "execution_count": null,
   "metadata": {},
   "outputs": [],
   "source": [
    "def delete_table_contents(conn):\n",
    "    with conn.cursor() as cur:\n",
    "        cur.execute(\"DELETE FROM {}\".format(tablename))\n",
    "        logging.debug(\"delete_table_contents(): status message: {}\".format(cur.statusmessage))\n",
    "    conn.commit()"
   ]
  },
  {
   "cell_type": "code",
   "execution_count": null,
   "metadata": {},
   "outputs": [],
   "source": [
    "#delete_table_contents(conn)"
   ]
  },
  {
   "cell_type": "markdown",
   "metadata": {},
   "source": [
    "#### (Optional) Delete the table from CockroachDB"
   ]
  },
  {
   "cell_type": "code",
   "execution_count": null,
   "metadata": {},
   "outputs": [],
   "source": [
    "def drop_table(conn):\n",
    "    with conn.cursor() as cur:\n",
    "        cur.execute(\"DROP TABLE {}\".format(tablename))\n",
    "        logging.debug(\"drop_table(): status message: {}\".format(cur.statusmessage))\n",
    "    conn.commit()"
   ]
  },
  {
   "cell_type": "code",
   "execution_count": null,
   "metadata": {},
   "outputs": [],
   "source": [
    "#drop_table(conn)"
   ]
  }
 ],
 "metadata": {
  "kernelspec": {
   "display_name": "jupyter.venv",
   "language": "python",
   "name": "jupyter.venv"
  },
  "language_info": {
   "codemirror_mode": {
    "name": "ipython",
    "version": 3
   },
   "file_extension": ".py",
   "mimetype": "text/x-python",
   "name": "python",
   "nbconvert_exporter": "python",
   "pygments_lexer": "ipython3",
   "version": "3.6.5"
  }
 },
 "nbformat": 4,
 "nbformat_minor": 4
}